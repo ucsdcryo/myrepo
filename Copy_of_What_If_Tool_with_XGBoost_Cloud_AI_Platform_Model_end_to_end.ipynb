{
  "nbformat": 4,
  "nbformat_minor": 0,
  "metadata": {
    "colab": {
      "name": "Copy of What-If Tool with XGBoost Cloud AI Platform Model - end-to-end",
      "provenance": [],
      "collapsed_sections": [],
      "include_colab_link": true
    },
    "kernelspec": {
      "display_name": "Python 3",
      "language": "python",
      "name": "python3"
    },
    "language_info": {
      "codemirror_mode": {
        "name": "ipython",
        "version": 3
      },
      "file_extension": ".py",
      "mimetype": "text/x-python",
      "name": "python",
      "nbconvert_exporter": "python",
      "pygments_lexer": "ipython3",
      "version": "3.7.4"
    }
  },
  "cells": [
    {
      "cell_type": "markdown",
      "metadata": {
        "id": "view-in-github",
        "colab_type": "text"
      },
      "source": [
        "<a href=\"https://colab.research.google.com/github/ucsdcryo/myrepo/blob/master/Copy_of_What_If_Tool_with_XGBoost_Cloud_AI_Platform_Model_end_to_end.ipynb\" target=\"_parent\"><img src=\"https://colab.research.google.com/assets/colab-badge.svg\" alt=\"Open In Colab\"/></a>"
      ]
    },
    {
      "cell_type": "markdown",
      "metadata": {
        "colab_type": "text",
        "id": "TWrdW148R9kP"
      },
      "source": [
        "# Cloud AI Platform + What-if Tool: end-to-end XGBoost example\n",
        "\n",
        "This notebook shows how to: \n",
        "* Build a binary classification model with XGBoost trained on a [mortgage dataset](https://www.ffiec.gov/hmda/hmdaflat.htm)\n",
        "* Deploy the model to [Cloud AI Platform](https://cloud.google.com/ai-platform/)\n",
        "* Use the [What-if Tool](https://pair-code.github.io/what-if-tool/) on your deployed model\n",
        "\n",
        "You will need a Google Cloud Platform account and project to run this notebook. Instructions for creating a project can be found [here](https://cloud.google.com/resource-manager/docs/creating-managing-projects)."
      ]
    },
    {
      "cell_type": "code",
      "metadata": {
        "id": "A7iB2dPMOSW6",
        "colab_type": "code",
        "colab": {}
      },
      "source": [
        "import sys\n",
        "python_version = sys.version_info[0]"
      ],
      "execution_count": 0,
      "outputs": []
    },
    {
      "cell_type": "code",
      "metadata": {
        "colab_type": "code",
        "id": "hSFHu19Rtvbt",
        "outputId": "508bee06-d129-43cd-ef61-064af309f587",
        "colab": {
          "base_uri": "https://localhost:8080/",
          "height": 561
        }
      },
      "source": [
        "# If you're running on Colab, you'll need to install the What-if Tool package and authenticate\n",
        "# If you're on Cloud AI Platform Notebooks, you'll need to install XGBoost on the TF instance\n",
        "def pip_install(module):\n",
        "    if python_version == '2':\n",
        "        !pip install {module} --quiet\n",
        "    else:\n",
        "        !pip3 install {module} --quiet\n",
        "\n",
        "try:\n",
        "    import google.colab\n",
        "    IN_COLAB = True\n",
        "except:\n",
        "    IN_COLAB = False\n",
        "\n",
        "if IN_COLAB:\n",
        "    pip_install('witwidget')\n",
        "\n",
        "    from google.colab import auth\n",
        "    auth.authenticate_user()\n",
        "else:\n",
        "    pip_install('xgboost')"
      ],
      "execution_count": 0,
      "outputs": [
        {
          "output_type": "stream",
          "text": [
            "\u001b[?25l\r\u001b[K     |▏                               | 10kB 13.0MB/s eta 0:00:01\r\u001b[K     |▎                               | 20kB 3.4MB/s eta 0:00:01\r\u001b[K     |▌                               | 30kB 4.7MB/s eta 0:00:01\r\u001b[K     |▋                               | 40kB 3.0MB/s eta 0:00:01\r\u001b[K     |▊                               | 51kB 3.6MB/s eta 0:00:01\r\u001b[K     |█                               | 61kB 4.3MB/s eta 0:00:01\r\u001b[K     |█                               | 71kB 5.0MB/s eta 0:00:01\r\u001b[K     |█▏                              | 81kB 5.6MB/s eta 0:00:01\r\u001b[K     |█▍                              | 92kB 6.2MB/s eta 0:00:01\r\u001b[K     |█▌                              | 102kB 4.6MB/s eta 0:00:01\r\u001b[K     |█▋                              | 112kB 4.6MB/s eta 0:00:01\r\u001b[K     |█▉                              | 122kB 4.6MB/s eta 0:00:01\r\u001b[K     |██                              | 133kB 4.6MB/s eta 0:00:01\r\u001b[K     |██                              | 143kB 4.6MB/s eta 0:00:01\r\u001b[K     |██▎                             | 153kB 4.6MB/s eta 0:00:01\r\u001b[K     |██▍                             | 163kB 4.6MB/s eta 0:00:01\r\u001b[K     |██▌                             | 174kB 4.6MB/s eta 0:00:01\r\u001b[K     |██▊                             | 184kB 4.6MB/s eta 0:00:01\r\u001b[K     |██▉                             | 194kB 4.6MB/s eta 0:00:01\r\u001b[K     |███                             | 204kB 4.6MB/s eta 0:00:01\r\u001b[K     |███▏                            | 215kB 4.6MB/s eta 0:00:01\r\u001b[K     |███▎                            | 225kB 4.6MB/s eta 0:00:01\r\u001b[K     |███▍                            | 235kB 4.6MB/s eta 0:00:01\r\u001b[K     |███▋                            | 245kB 4.6MB/s eta 0:00:01\r\u001b[K     |███▊                            | 256kB 4.6MB/s eta 0:00:01\r\u001b[K     |███▉                            | 266kB 4.6MB/s eta 0:00:01\r\u001b[K     |████                            | 276kB 4.6MB/s eta 0:00:01\r\u001b[K     |████▏                           | 286kB 4.6MB/s eta 0:00:01\r\u001b[K     |████▎                           | 296kB 4.6MB/s eta 0:00:01\r\u001b[K     |████▌                           | 307kB 4.6MB/s eta 0:00:01\r\u001b[K     |████▋                           | 317kB 4.6MB/s eta 0:00:01\r\u001b[K     |████▊                           | 327kB 4.6MB/s eta 0:00:01\r\u001b[K     |█████                           | 337kB 4.6MB/s eta 0:00:01\r\u001b[K     |█████                           | 348kB 4.6MB/s eta 0:00:01\r\u001b[K     |█████▏                          | 358kB 4.6MB/s eta 0:00:01\r\u001b[K     |█████▍                          | 368kB 4.6MB/s eta 0:00:01\r\u001b[K     |█████▌                          | 378kB 4.6MB/s eta 0:00:01\r\u001b[K     |█████▋                          | 389kB 4.6MB/s eta 0:00:01\r\u001b[K     |█████▉                          | 399kB 4.6MB/s eta 0:00:01\r\u001b[K     |██████                          | 409kB 4.6MB/s eta 0:00:01\r\u001b[K     |██████                          | 419kB 4.6MB/s eta 0:00:01\r\u001b[K     |██████▎                         | 430kB 4.6MB/s eta 0:00:01\r\u001b[K     |██████▍                         | 440kB 4.6MB/s eta 0:00:01\r\u001b[K     |██████▋                         | 450kB 4.6MB/s eta 0:00:01\r\u001b[K     |██████▊                         | 460kB 4.6MB/s eta 0:00:01\r\u001b[K     |██████▉                         | 471kB 4.6MB/s eta 0:00:01\r\u001b[K     |███████                         | 481kB 4.6MB/s eta 0:00:01\r\u001b[K     |███████▏                        | 491kB 4.6MB/s eta 0:00:01\r\u001b[K     |███████▎                        | 501kB 4.6MB/s eta 0:00:01\r\u001b[K     |███████▌                        | 512kB 4.6MB/s eta 0:00:01\r\u001b[K     |███████▋                        | 522kB 4.6MB/s eta 0:00:01\r\u001b[K     |███████▊                        | 532kB 4.6MB/s eta 0:00:01\r\u001b[K     |████████                        | 542kB 4.6MB/s eta 0:00:01\r\u001b[K     |████████                        | 552kB 4.6MB/s eta 0:00:01\r\u001b[K     |████████▏                       | 563kB 4.6MB/s eta 0:00:01\r\u001b[K     |████████▍                       | 573kB 4.6MB/s eta 0:00:01\r\u001b[K     |████████▌                       | 583kB 4.6MB/s eta 0:00:01\r\u001b[K     |████████▋                       | 593kB 4.6MB/s eta 0:00:01\r\u001b[K     |████████▉                       | 604kB 4.6MB/s eta 0:00:01\r\u001b[K     |█████████                       | 614kB 4.6MB/s eta 0:00:01\r\u001b[K     |█████████                       | 624kB 4.6MB/s eta 0:00:01\r\u001b[K     |█████████▎                      | 634kB 4.6MB/s eta 0:00:01\r\u001b[K     |█████████▍                      | 645kB 4.6MB/s eta 0:00:01\r\u001b[K     |█████████▌                      | 655kB 4.6MB/s eta 0:00:01\r\u001b[K     |█████████▊                      | 665kB 4.6MB/s eta 0:00:01\r\u001b[K     |█████████▉                      | 675kB 4.6MB/s eta 0:00:01\r\u001b[K     |██████████                      | 686kB 4.6MB/s eta 0:00:01\r\u001b[K     |██████████▏                     | 696kB 4.6MB/s eta 0:00:01\r\u001b[K     |██████████▎                     | 706kB 4.6MB/s eta 0:00:01\r\u001b[K     |██████████▍                     | 716kB 4.6MB/s eta 0:00:01\r\u001b[K     |██████████▋                     | 727kB 4.6MB/s eta 0:00:01\r\u001b[K     |██████████▊                     | 737kB 4.6MB/s eta 0:00:01\r\u001b[K     |██████████▉                     | 747kB 4.6MB/s eta 0:00:01\r\u001b[K     |███████████                     | 757kB 4.6MB/s eta 0:00:01\r\u001b[K     |███████████▏                    | 768kB 4.6MB/s eta 0:00:01\r\u001b[K     |███████████▎                    | 778kB 4.6MB/s eta 0:00:01\r\u001b[K     |███████████▌                    | 788kB 4.6MB/s eta 0:00:01\r\u001b[K     |███████████▋                    | 798kB 4.6MB/s eta 0:00:01\r\u001b[K     |███████████▊                    | 808kB 4.6MB/s eta 0:00:01\r\u001b[K     |████████████                    | 819kB 4.6MB/s eta 0:00:01\r\u001b[K     |████████████                    | 829kB 4.6MB/s eta 0:00:01\r\u001b[K     |████████████▏                   | 839kB 4.6MB/s eta 0:00:01\r\u001b[K     |████████████▍                   | 849kB 4.6MB/s eta 0:00:01\r\u001b[K     |████████████▌                   | 860kB 4.6MB/s eta 0:00:01\r\u001b[K     |████████████▊                   | 870kB 4.6MB/s eta 0:00:01\r\u001b[K     |████████████▉                   | 880kB 4.6MB/s eta 0:00:01\r\u001b[K     |█████████████                   | 890kB 4.6MB/s eta 0:00:01\r\u001b[K     |█████████████▏                  | 901kB 4.6MB/s eta 0:00:01\r\u001b[K     |█████████████▎                  | 911kB 4.6MB/s eta 0:00:01\r\u001b[K     |█████████████▍                  | 921kB 4.6MB/s eta 0:00:01\r\u001b[K     |█████████████▋                  | 931kB 4.6MB/s eta 0:00:01\r\u001b[K     |█████████████▊                  | 942kB 4.6MB/s eta 0:00:01\r\u001b[K     |█████████████▉                  | 952kB 4.6MB/s eta 0:00:01\r\u001b[K     |██████████████                  | 962kB 4.6MB/s eta 0:00:01\r\u001b[K     |██████████████▏                 | 972kB 4.6MB/s eta 0:00:01\r\u001b[K     |██████████████▎                 | 983kB 4.6MB/s eta 0:00:01\r\u001b[K     |██████████████▌                 | 993kB 4.6MB/s eta 0:00:01\r\u001b[K     |██████████████▋                 | 1.0MB 4.6MB/s eta 0:00:01\r\u001b[K     |██████████████▊                 | 1.0MB 4.6MB/s eta 0:00:01\r\u001b[K     |███████████████                 | 1.0MB 4.6MB/s eta 0:00:01\r\u001b[K     |███████████████                 | 1.0MB 4.6MB/s eta 0:00:01\r\u001b[K     |███████████████▏                | 1.0MB 4.6MB/s eta 0:00:01\r\u001b[K     |███████████████▍                | 1.1MB 4.6MB/s eta 0:00:01\r\u001b[K     |███████████████▌                | 1.1MB 4.6MB/s eta 0:00:01\r\u001b[K     |███████████████▋                | 1.1MB 4.6MB/s eta 0:00:01\r\u001b[K     |███████████████▉                | 1.1MB 4.6MB/s eta 0:00:01\r\u001b[K     |████████████████                | 1.1MB 4.6MB/s eta 0:00:01\r\u001b[K     |████████████████                | 1.1MB 4.6MB/s eta 0:00:01\r\u001b[K     |████████████████▎               | 1.1MB 4.6MB/s eta 0:00:01\r\u001b[K     |████████████████▍               | 1.1MB 4.6MB/s eta 0:00:01\r\u001b[K     |████████████████▌               | 1.1MB 4.6MB/s eta 0:00:01\r\u001b[K     |████████████████▊               | 1.1MB 4.6MB/s eta 0:00:01\r\u001b[K     |████████████████▉               | 1.2MB 4.6MB/s eta 0:00:01\r\u001b[K     |█████████████████               | 1.2MB 4.6MB/s eta 0:00:01\r\u001b[K     |█████████████████▏              | 1.2MB 4.6MB/s eta 0:00:01\r\u001b[K     |█████████████████▎              | 1.2MB 4.6MB/s eta 0:00:01\r\u001b[K     |█████████████████▍              | 1.2MB 4.6MB/s eta 0:00:01\r\u001b[K     |█████████████████▋              | 1.2MB 4.6MB/s eta 0:00:01\r\u001b[K     |█████████████████▊              | 1.2MB 4.6MB/s eta 0:00:01\r\u001b[K     |█████████████████▉              | 1.2MB 4.6MB/s eta 0:00:01\r\u001b[K     |██████████████████              | 1.2MB 4.6MB/s eta 0:00:01\r\u001b[K     |██████████████████▏             | 1.2MB 4.6MB/s eta 0:00:01\r\u001b[K     |██████████████████▎             | 1.3MB 4.6MB/s eta 0:00:01\r\u001b[K     |██████████████████▌             | 1.3MB 4.6MB/s eta 0:00:01\r\u001b[K     |██████████████████▋             | 1.3MB 4.6MB/s eta 0:00:01\r\u001b[K     |██████████████████▊             | 1.3MB 4.6MB/s eta 0:00:01\r\u001b[K     |███████████████████             | 1.3MB 4.6MB/s eta 0:00:01\r\u001b[K     |███████████████████             | 1.3MB 4.6MB/s eta 0:00:01\r\u001b[K     |███████████████████▎            | 1.3MB 4.6MB/s eta 0:00:01\r\u001b[K     |███████████████████▍            | 1.3MB 4.6MB/s eta 0:00:01\r\u001b[K     |███████████████████▌            | 1.3MB 4.6MB/s eta 0:00:01\r\u001b[K     |███████████████████▊            | 1.4MB 4.6MB/s eta 0:00:01\r\u001b[K     |███████████████████▉            | 1.4MB 4.6MB/s eta 0:00:01\r\u001b[K     |████████████████████            | 1.4MB 4.6MB/s eta 0:00:01\r\u001b[K     |████████████████████▏           | 1.4MB 4.6MB/s eta 0:00:01\r\u001b[K     |████████████████████▎           | 1.4MB 4.6MB/s eta 0:00:01\r\u001b[K     |████████████████████▍           | 1.4MB 4.6MB/s eta 0:00:01\r\u001b[K     |████████████████████▋           | 1.4MB 4.6MB/s eta 0:00:01\r\u001b[K     |████████████████████▊           | 1.4MB 4.6MB/s eta 0:00:01\r\u001b[K     |████████████████████▉           | 1.4MB 4.6MB/s eta 0:00:01\r\u001b[K     |█████████████████████           | 1.4MB 4.6MB/s eta 0:00:01\r\u001b[K     |█████████████████████▏          | 1.5MB 4.6MB/s eta 0:00:01\r\u001b[K     |█████████████████████▎          | 1.5MB 4.6MB/s eta 0:00:01\r\u001b[K     |█████████████████████▌          | 1.5MB 4.6MB/s eta 0:00:01\r\u001b[K     |█████████████████████▋          | 1.5MB 4.6MB/s eta 0:00:01\r\u001b[K     |█████████████████████▊          | 1.5MB 4.6MB/s eta 0:00:01\r\u001b[K     |██████████████████████          | 1.5MB 4.6MB/s eta 0:00:01\r\u001b[K     |██████████████████████          | 1.5MB 4.6MB/s eta 0:00:01\r\u001b[K     |██████████████████████▏         | 1.5MB 4.6MB/s eta 0:00:01\r\u001b[K     |██████████████████████▍         | 1.5MB 4.6MB/s eta 0:00:01\r\u001b[K     |██████████████████████▌         | 1.5MB 4.6MB/s eta 0:00:01\r\u001b[K     |██████████████████████▋         | 1.6MB 4.6MB/s eta 0:00:01\r\u001b[K     |██████████████████████▉         | 1.6MB 4.6MB/s eta 0:00:01\r\u001b[K     |███████████████████████         | 1.6MB 4.6MB/s eta 0:00:01\r\u001b[K     |███████████████████████         | 1.6MB 4.6MB/s eta 0:00:01\r\u001b[K     |███████████████████████▎        | 1.6MB 4.6MB/s eta 0:00:01\r\u001b[K     |███████████████████████▍        | 1.6MB 4.6MB/s eta 0:00:01\r\u001b[K     |███████████████████████▌        | 1.6MB 4.6MB/s eta 0:00:01\r\u001b[K     |███████████████████████▊        | 1.6MB 4.6MB/s eta 0:00:01\r\u001b[K     |███████████████████████▉        | 1.6MB 4.6MB/s eta 0:00:01\r\u001b[K     |████████████████████████        | 1.6MB 4.6MB/s eta 0:00:01\r\u001b[K     |████████████████████████▏       | 1.7MB 4.6MB/s eta 0:00:01\r\u001b[K     |████████████████████████▎       | 1.7MB 4.6MB/s eta 0:00:01\r\u001b[K     |████████████████████████▍       | 1.7MB 4.6MB/s eta 0:00:01\r\u001b[K     |████████████████████████▋       | 1.7MB 4.6MB/s eta 0:00:01\r\u001b[K     |████████████████████████▊       | 1.7MB 4.6MB/s eta 0:00:01\r\u001b[K     |████████████████████████▉       | 1.7MB 4.6MB/s eta 0:00:01\r\u001b[K     |█████████████████████████       | 1.7MB 4.6MB/s eta 0:00:01\r\u001b[K     |█████████████████████████▏      | 1.7MB 4.6MB/s eta 0:00:01\r\u001b[K     |█████████████████████████▍      | 1.7MB 4.6MB/s eta 0:00:01\r\u001b[K     |█████████████████████████▌      | 1.8MB 4.6MB/s eta 0:00:01\r\u001b[K     |█████████████████████████▋      | 1.8MB 4.6MB/s eta 0:00:01\r\u001b[K     |█████████████████████████▉      | 1.8MB 4.6MB/s eta 0:00:01\r\u001b[K     |██████████████████████████      | 1.8MB 4.6MB/s eta 0:00:01\r\u001b[K     |██████████████████████████      | 1.8MB 4.6MB/s eta 0:00:01\r\u001b[K     |██████████████████████████▎     | 1.8MB 4.6MB/s eta 0:00:01\r\u001b[K     |██████████████████████████▍     | 1.8MB 4.6MB/s eta 0:00:01\r\u001b[K     |██████████████████████████▌     | 1.8MB 4.6MB/s eta 0:00:01\r\u001b[K     |██████████████████████████▊     | 1.8MB 4.6MB/s eta 0:00:01\r\u001b[K     |██████████████████████████▉     | 1.8MB 4.6MB/s eta 0:00:01\r\u001b[K     |███████████████████████████     | 1.9MB 4.6MB/s eta 0:00:01\r\u001b[K     |███████████████████████████▏    | 1.9MB 4.6MB/s eta 0:00:01\r\u001b[K     |███████████████████████████▎    | 1.9MB 4.6MB/s eta 0:00:01\r\u001b[K     |███████████████████████████▍    | 1.9MB 4.6MB/s eta 0:00:01\r\u001b[K     |███████████████████████████▋    | 1.9MB 4.6MB/s eta 0:00:01\r\u001b[K     |███████████████████████████▊    | 1.9MB 4.6MB/s eta 0:00:01\r\u001b[K     |███████████████████████████▉    | 1.9MB 4.6MB/s eta 0:00:01\r\u001b[K     |████████████████████████████    | 1.9MB 4.6MB/s eta 0:00:01\r\u001b[K     |████████████████████████████▏   | 1.9MB 4.6MB/s eta 0:00:01\r\u001b[K     |████████████████████████████▎   | 1.9MB 4.6MB/s eta 0:00:01\r\u001b[K     |████████████████████████████▌   | 2.0MB 4.6MB/s eta 0:00:01\r\u001b[K     |████████████████████████████▋   | 2.0MB 4.6MB/s eta 0:00:01\r\u001b[K     |████████████████████████████▊   | 2.0MB 4.6MB/s eta 0:00:01\r\u001b[K     |█████████████████████████████   | 2.0MB 4.6MB/s eta 0:00:01\r\u001b[K     |█████████████████████████████   | 2.0MB 4.6MB/s eta 0:00:01\r\u001b[K     |█████████████████████████████▏  | 2.0MB 4.6MB/s eta 0:00:01\r\u001b[K     |█████████████████████████████▍  | 2.0MB 4.6MB/s eta 0:00:01\r\u001b[K     |█████████████████████████████▌  | 2.0MB 4.6MB/s eta 0:00:01\r\u001b[K     |█████████████████████████████▋  | 2.0MB 4.6MB/s eta 0:00:01\r\u001b[K     |█████████████████████████████▉  | 2.0MB 4.6MB/s eta 0:00:01\r\u001b[K     |██████████████████████████████  | 2.1MB 4.6MB/s eta 0:00:01\r\u001b[K     |██████████████████████████████  | 2.1MB 4.6MB/s eta 0:00:01\r\u001b[K     |██████████████████████████████▎ | 2.1MB 4.6MB/s eta 0:00:01\r\u001b[K     |██████████████████████████████▍ | 2.1MB 4.6MB/s eta 0:00:01\r\u001b[K     |██████████████████████████████▌ | 2.1MB 4.6MB/s eta 0:00:01\r\u001b[K     |██████████████████████████████▊ | 2.1MB 4.6MB/s eta 0:00:01\r\u001b[K     |██████████████████████████████▉ | 2.1MB 4.6MB/s eta 0:00:01\r\u001b[K     |███████████████████████████████ | 2.1MB 4.6MB/s eta 0:00:01\r\u001b[K     |███████████████████████████████▏| 2.1MB 4.6MB/s eta 0:00:01\r\u001b[K     |███████████████████████████████▎| 2.2MB 4.6MB/s eta 0:00:01\r\u001b[K     |███████████████████████████████▍| 2.2MB 4.6MB/s eta 0:00:01\r\u001b[K     |███████████████████████████████▋| 2.2MB 4.6MB/s eta 0:00:01\r\u001b[K     |███████████████████████████████▊| 2.2MB 4.6MB/s eta 0:00:01\r\u001b[K     |████████████████████████████████| 2.2MB 4.6MB/s eta 0:00:01\r\u001b[K     |████████████████████████████████| 2.2MB 4.6MB/s \n",
            "\u001b[31mERROR: tensorflow-serving-api 2.0.0 has requirement tensorflow~=2.0.0, but you'll have tensorflow 1.15.0 which is incompatible.\u001b[0m\n",
            "\u001b[?25h"
          ],
          "name": "stdout"
        },
        {
          "output_type": "error",
          "ename": "KeyboardInterrupt",
          "evalue": "ignored",
          "traceback": [
            "\u001b[0;31m---------------------------------------------------------------------------\u001b[0m",
            "\u001b[0;31mKeyboardInterrupt\u001b[0m                         Traceback (most recent call last)",
            "\u001b[0;32m/usr/local/lib/python3.6/dist-packages/ipykernel/kernelbase.py\u001b[0m in \u001b[0;36m_input_request\u001b[0;34m(self, prompt, ident, parent, password)\u001b[0m\n\u001b[1;32m    729\u001b[0m             \u001b[0;32mtry\u001b[0m\u001b[0;34m:\u001b[0m\u001b[0;34m\u001b[0m\u001b[0;34m\u001b[0m\u001b[0m\n\u001b[0;32m--> 730\u001b[0;31m                 \u001b[0mident\u001b[0m\u001b[0;34m,\u001b[0m \u001b[0mreply\u001b[0m \u001b[0;34m=\u001b[0m \u001b[0mself\u001b[0m\u001b[0;34m.\u001b[0m\u001b[0msession\u001b[0m\u001b[0;34m.\u001b[0m\u001b[0mrecv\u001b[0m\u001b[0;34m(\u001b[0m\u001b[0mself\u001b[0m\u001b[0;34m.\u001b[0m\u001b[0mstdin_socket\u001b[0m\u001b[0;34m,\u001b[0m \u001b[0;36m0\u001b[0m\u001b[0;34m)\u001b[0m\u001b[0;34m\u001b[0m\u001b[0;34m\u001b[0m\u001b[0m\n\u001b[0m\u001b[1;32m    731\u001b[0m             \u001b[0;32mexcept\u001b[0m \u001b[0mException\u001b[0m\u001b[0;34m:\u001b[0m\u001b[0;34m\u001b[0m\u001b[0;34m\u001b[0m\u001b[0m\n",
            "\u001b[0;32m/usr/local/lib/python3.6/dist-packages/jupyter_client/session.py\u001b[0m in \u001b[0;36mrecv\u001b[0;34m(self, socket, mode, content, copy)\u001b[0m\n\u001b[1;32m    802\u001b[0m         \u001b[0;32mtry\u001b[0m\u001b[0;34m:\u001b[0m\u001b[0;34m\u001b[0m\u001b[0;34m\u001b[0m\u001b[0m\n\u001b[0;32m--> 803\u001b[0;31m             \u001b[0mmsg_list\u001b[0m \u001b[0;34m=\u001b[0m \u001b[0msocket\u001b[0m\u001b[0;34m.\u001b[0m\u001b[0mrecv_multipart\u001b[0m\u001b[0;34m(\u001b[0m\u001b[0mmode\u001b[0m\u001b[0;34m,\u001b[0m \u001b[0mcopy\u001b[0m\u001b[0;34m=\u001b[0m\u001b[0mcopy\u001b[0m\u001b[0;34m)\u001b[0m\u001b[0;34m\u001b[0m\u001b[0;34m\u001b[0m\u001b[0m\n\u001b[0m\u001b[1;32m    804\u001b[0m         \u001b[0;32mexcept\u001b[0m \u001b[0mzmq\u001b[0m\u001b[0;34m.\u001b[0m\u001b[0mZMQError\u001b[0m \u001b[0;32mas\u001b[0m \u001b[0me\u001b[0m\u001b[0;34m:\u001b[0m\u001b[0;34m\u001b[0m\u001b[0;34m\u001b[0m\u001b[0m\n",
            "\u001b[0;32m/usr/local/lib/python3.6/dist-packages/zmq/sugar/socket.py\u001b[0m in \u001b[0;36mrecv_multipart\u001b[0;34m(self, flags, copy, track)\u001b[0m\n\u001b[1;32m    465\u001b[0m         \"\"\"\n\u001b[0;32m--> 466\u001b[0;31m         \u001b[0mparts\u001b[0m \u001b[0;34m=\u001b[0m \u001b[0;34m[\u001b[0m\u001b[0mself\u001b[0m\u001b[0;34m.\u001b[0m\u001b[0mrecv\u001b[0m\u001b[0;34m(\u001b[0m\u001b[0mflags\u001b[0m\u001b[0;34m,\u001b[0m \u001b[0mcopy\u001b[0m\u001b[0;34m=\u001b[0m\u001b[0mcopy\u001b[0m\u001b[0;34m,\u001b[0m \u001b[0mtrack\u001b[0m\u001b[0;34m=\u001b[0m\u001b[0mtrack\u001b[0m\u001b[0;34m)\u001b[0m\u001b[0;34m]\u001b[0m\u001b[0;34m\u001b[0m\u001b[0;34m\u001b[0m\u001b[0m\n\u001b[0m\u001b[1;32m    467\u001b[0m         \u001b[0;31m# have first part already, only loop while more to receive\u001b[0m\u001b[0;34m\u001b[0m\u001b[0;34m\u001b[0m\u001b[0;34m\u001b[0m\u001b[0m\n",
            "\u001b[0;32mzmq/backend/cython/socket.pyx\u001b[0m in \u001b[0;36mzmq.backend.cython.socket.Socket.recv\u001b[0;34m()\u001b[0m\n",
            "\u001b[0;32mzmq/backend/cython/socket.pyx\u001b[0m in \u001b[0;36mzmq.backend.cython.socket.Socket.recv\u001b[0;34m()\u001b[0m\n",
            "\u001b[0;32mzmq/backend/cython/socket.pyx\u001b[0m in \u001b[0;36mzmq.backend.cython.socket._recv_copy\u001b[0;34m()\u001b[0m\n",
            "\u001b[0;32m/usr/local/lib/python3.6/dist-packages/zmq/backend/cython/checkrc.pxd\u001b[0m in \u001b[0;36mzmq.backend.cython.checkrc._check_rc\u001b[0;34m()\u001b[0m\n",
            "\u001b[0;31mKeyboardInterrupt\u001b[0m: ",
            "\nDuring handling of the above exception, another exception occurred:\n",
            "\u001b[0;31mKeyboardInterrupt\u001b[0m                         Traceback (most recent call last)",
            "\u001b[0;32m<ipython-input-2-aa871f8d7a8e>\u001b[0m in \u001b[0;36m<module>\u001b[0;34m()\u001b[0m\n\u001b[1;32m     15\u001b[0m \u001b[0;34m\u001b[0m\u001b[0m\n\u001b[1;32m     16\u001b[0m     \u001b[0;32mfrom\u001b[0m \u001b[0mgoogle\u001b[0m\u001b[0;34m.\u001b[0m\u001b[0mcolab\u001b[0m \u001b[0;32mimport\u001b[0m \u001b[0mauth\u001b[0m\u001b[0;34m\u001b[0m\u001b[0;34m\u001b[0m\u001b[0m\n\u001b[0;32m---> 17\u001b[0;31m     \u001b[0mauth\u001b[0m\u001b[0;34m.\u001b[0m\u001b[0mauthenticate_user\u001b[0m\u001b[0;34m(\u001b[0m\u001b[0;34m)\u001b[0m\u001b[0;34m\u001b[0m\u001b[0;34m\u001b[0m\u001b[0m\n\u001b[0m\u001b[1;32m     18\u001b[0m \u001b[0;32melse\u001b[0m\u001b[0;34m:\u001b[0m\u001b[0;34m\u001b[0m\u001b[0;34m\u001b[0m\u001b[0m\n\u001b[1;32m     19\u001b[0m     \u001b[0mpip_install\u001b[0m\u001b[0;34m(\u001b[0m\u001b[0;34m'xgboost'\u001b[0m\u001b[0;34m)\u001b[0m\u001b[0;34m\u001b[0m\u001b[0;34m\u001b[0m\u001b[0m\n",
            "\u001b[0;32m/usr/local/lib/python3.6/dist-packages/google/colab/auth.py\u001b[0m in \u001b[0;36mauthenticate_user\u001b[0;34m(clear_output)\u001b[0m\n\u001b[1;32m    145\u001b[0m     \u001b[0mcontext_manager\u001b[0m \u001b[0;34m=\u001b[0m \u001b[0m_output\u001b[0m\u001b[0;34m.\u001b[0m\u001b[0mtemporary\u001b[0m \u001b[0;32mif\u001b[0m \u001b[0mclear_output\u001b[0m \u001b[0;32melse\u001b[0m \u001b[0m_noop\u001b[0m\u001b[0;34m\u001b[0m\u001b[0;34m\u001b[0m\u001b[0m\n\u001b[1;32m    146\u001b[0m     \u001b[0;32mwith\u001b[0m \u001b[0mcontext_manager\u001b[0m\u001b[0;34m(\u001b[0m\u001b[0;34m)\u001b[0m\u001b[0;34m:\u001b[0m\u001b[0;34m\u001b[0m\u001b[0;34m\u001b[0m\u001b[0m\n\u001b[0;32m--> 147\u001b[0;31m       \u001b[0m_gcloud_login\u001b[0m\u001b[0;34m(\u001b[0m\u001b[0;34m)\u001b[0m\u001b[0;34m\u001b[0m\u001b[0;34m\u001b[0m\u001b[0m\n\u001b[0m\u001b[1;32m    148\u001b[0m     \u001b[0m_install_adc\u001b[0m\u001b[0;34m(\u001b[0m\u001b[0;34m)\u001b[0m\u001b[0;34m\u001b[0m\u001b[0;34m\u001b[0m\u001b[0m\n\u001b[1;32m    149\u001b[0m     \u001b[0mcolab_tpu_addr\u001b[0m \u001b[0;34m=\u001b[0m \u001b[0m_os\u001b[0m\u001b[0;34m.\u001b[0m\u001b[0menviron\u001b[0m\u001b[0;34m.\u001b[0m\u001b[0mget\u001b[0m\u001b[0;34m(\u001b[0m\u001b[0;34m'COLAB_TPU_ADDR'\u001b[0m\u001b[0;34m,\u001b[0m \u001b[0;34m''\u001b[0m\u001b[0;34m)\u001b[0m\u001b[0;34m\u001b[0m\u001b[0;34m\u001b[0m\u001b[0m\n",
            "\u001b[0;32m/usr/local/lib/python3.6/dist-packages/google/colab/auth.py\u001b[0m in \u001b[0;36m_gcloud_login\u001b[0;34m()\u001b[0m\n\u001b[1;32m     89\u001b[0m     \u001b[0;31m# https://github.com/jupyter/notebook/issues/3159\u001b[0m\u001b[0;34m\u001b[0m\u001b[0;34m\u001b[0m\u001b[0;34m\u001b[0m\u001b[0m\n\u001b[1;32m     90\u001b[0m     \u001b[0mprompt\u001b[0m \u001b[0;34m=\u001b[0m \u001b[0mprompt\u001b[0m\u001b[0;34m.\u001b[0m\u001b[0mrstrip\u001b[0m\u001b[0;34m(\u001b[0m\u001b[0;34m)\u001b[0m\u001b[0;34m\u001b[0m\u001b[0;34m\u001b[0m\u001b[0m\n\u001b[0;32m---> 91\u001b[0;31m     \u001b[0mcode\u001b[0m \u001b[0;34m=\u001b[0m \u001b[0m_getpass\u001b[0m\u001b[0;34m.\u001b[0m\u001b[0mgetpass\u001b[0m\u001b[0;34m(\u001b[0m\u001b[0mprompt\u001b[0m \u001b[0;34m+\u001b[0m \u001b[0;34m'\\n\\nEnter verification code: '\u001b[0m\u001b[0;34m)\u001b[0m\u001b[0;34m\u001b[0m\u001b[0;34m\u001b[0m\u001b[0m\n\u001b[0m\u001b[1;32m     92\u001b[0m     \u001b[0mgcloud_process\u001b[0m\u001b[0;34m.\u001b[0m\u001b[0mcommunicate\u001b[0m\u001b[0;34m(\u001b[0m\u001b[0mcode\u001b[0m\u001b[0;34m.\u001b[0m\u001b[0mstrip\u001b[0m\u001b[0;34m(\u001b[0m\u001b[0;34m)\u001b[0m\u001b[0;34m)\u001b[0m\u001b[0;34m\u001b[0m\u001b[0;34m\u001b[0m\u001b[0m\n\u001b[1;32m     93\u001b[0m   \u001b[0;32mfinally\u001b[0m\u001b[0;34m:\u001b[0m\u001b[0;34m\u001b[0m\u001b[0;34m\u001b[0m\u001b[0m\n",
            "\u001b[0;32m/usr/local/lib/python3.6/dist-packages/ipykernel/kernelbase.py\u001b[0m in \u001b[0;36mgetpass\u001b[0;34m(self, prompt, stream)\u001b[0m\n\u001b[1;32m    686\u001b[0m             \u001b[0mself\u001b[0m\u001b[0;34m.\u001b[0m\u001b[0m_parent_ident\u001b[0m\u001b[0;34m,\u001b[0m\u001b[0;34m\u001b[0m\u001b[0;34m\u001b[0m\u001b[0m\n\u001b[1;32m    687\u001b[0m             \u001b[0mself\u001b[0m\u001b[0;34m.\u001b[0m\u001b[0m_parent_header\u001b[0m\u001b[0;34m,\u001b[0m\u001b[0;34m\u001b[0m\u001b[0;34m\u001b[0m\u001b[0m\n\u001b[0;32m--> 688\u001b[0;31m             \u001b[0mpassword\u001b[0m\u001b[0;34m=\u001b[0m\u001b[0;32mTrue\u001b[0m\u001b[0;34m,\u001b[0m\u001b[0;34m\u001b[0m\u001b[0;34m\u001b[0m\u001b[0m\n\u001b[0m\u001b[1;32m    689\u001b[0m         )\n\u001b[1;32m    690\u001b[0m \u001b[0;34m\u001b[0m\u001b[0m\n",
            "\u001b[0;32m/usr/local/lib/python3.6/dist-packages/ipykernel/kernelbase.py\u001b[0m in \u001b[0;36m_input_request\u001b[0;34m(self, prompt, ident, parent, password)\u001b[0m\n\u001b[1;32m    733\u001b[0m             \u001b[0;32mexcept\u001b[0m \u001b[0mKeyboardInterrupt\u001b[0m\u001b[0;34m:\u001b[0m\u001b[0;34m\u001b[0m\u001b[0;34m\u001b[0m\u001b[0m\n\u001b[1;32m    734\u001b[0m                 \u001b[0;31m# re-raise KeyboardInterrupt, to truncate traceback\u001b[0m\u001b[0;34m\u001b[0m\u001b[0;34m\u001b[0m\u001b[0;34m\u001b[0m\u001b[0m\n\u001b[0;32m--> 735\u001b[0;31m                 \u001b[0;32mraise\u001b[0m \u001b[0mKeyboardInterrupt\u001b[0m\u001b[0;34m\u001b[0m\u001b[0;34m\u001b[0m\u001b[0m\n\u001b[0m\u001b[1;32m    736\u001b[0m             \u001b[0;32melse\u001b[0m\u001b[0;34m:\u001b[0m\u001b[0;34m\u001b[0m\u001b[0;34m\u001b[0m\u001b[0m\n\u001b[1;32m    737\u001b[0m                 \u001b[0;32mbreak\u001b[0m\u001b[0;34m\u001b[0m\u001b[0;34m\u001b[0m\u001b[0m\n",
            "\u001b[0;31mKeyboardInterrupt\u001b[0m: "
          ]
        }
      ]
    },
    {
      "cell_type": "code",
      "metadata": {
        "colab_type": "code",
        "id": "CosDxuLy7M4Q",
        "colab": {}
      },
      "source": [
        "import pandas as pd\n",
        "import xgboost as xgb\n",
        "import numpy as np\n",
        "import collections\n",
        "import witwidget\n",
        "\n",
        "from sklearn.model_selection import train_test_split\n",
        "from sklearn.metrics import accuracy_score, confusion_matrix\n",
        "from sklearn.utils import shuffle\n",
        "from witwidget.notebook.visualization import WitWidget, WitConfigBuilder"
      ],
      "execution_count": 0,
      "outputs": []
    },
    {
      "cell_type": "markdown",
      "metadata": {
        "colab_type": "text",
        "id": "bFIxtguO1In_"
      },
      "source": [
        "## Download and pre-process data\n",
        "\n",
        "In this section we'll:\n",
        "* Download a subset of the mortgage dataset from Google Cloud Storage\n",
        "* Because XGBoost requires all columns to be numerical, we'll convert all categorical columns to dummy columns (0 or 1 values for each possible category value)\n",
        "* Note that we've already done some pre-processing on the original dataset to convert value codes to strings: for example, an agency code of `1` becomes `Office of the Comptroller of the Currency (OCC)`"
      ]
    },
    {
      "cell_type": "code",
      "metadata": {
        "colab_type": "code",
        "id": "9BngZjdsO6Mr",
        "colab": {}
      },
      "source": [
        "# Use a small subset of the data since the original dataset is too big for Colab (2.5GB)\n",
        "# Data source: https://www.ffiec.gov/hmda/hmdaflat.htm\n",
        "!gsutil cp gs://mortgage_dataset_files/mortgage-small.csv ."
      ],
      "execution_count": 0,
      "outputs": []
    },
    {
      "cell_type": "code",
      "metadata": {
        "colab_type": "code",
        "id": "rou3YAIFhQCK",
        "colab": {}
      },
      "source": [
        "# Set column dtypes for Pandas\n",
        "COLUMN_NAMES = collections.OrderedDict({\n",
        "  'as_of_year': np.int16,\n",
        "  'agency_code': 'category',\n",
        "  'loan_type': 'category',\n",
        "  'property_type': 'category',\n",
        "  'loan_purpose': 'category',\n",
        "  'occupancy': np.int8,\n",
        "  'loan_amt_thousands': np.float64,\n",
        "  'preapproval': 'category',\n",
        "  'county_code': np.float64,\n",
        "  'applicant_income_thousands': np.float64,\n",
        "  'purchaser_type': 'category',\n",
        "  'hoepa_status': 'category',\n",
        "  'lien_status': 'category',\n",
        "  'population': np.float64,\n",
        "  'ffiec_median_fam_income': np.float64,\n",
        "  'tract_to_msa_income_pct': np.float64,\n",
        "  'num_owner_occupied_units': np.float64,\n",
        "  'num_1_to_4_family_units': np.float64,\n",
        "  'approved': np.int8\n",
        "})"
      ],
      "execution_count": 0,
      "outputs": []
    },
    {
      "cell_type": "code",
      "metadata": {
        "colab_type": "code",
        "id": "18xiylX4_EPO",
        "colab": {}
      },
      "source": [
        "# Load data into Pandas\n",
        "data = pd.read_csv(\n",
        "  'mortgage-small.csv', \n",
        "  index_col=False,\n",
        "  dtype=COLUMN_NAMES\n",
        ")\n",
        "data = data.dropna()\n",
        "data = shuffle(data, random_state=2)\n",
        "data.head()"
      ],
      "execution_count": 0,
      "outputs": []
    },
    {
      "cell_type": "code",
      "metadata": {
        "colab_type": "code",
        "id": "xkt2L4Lh_buo",
        "colab": {}
      },
      "source": [
        "# Label preprocessing\n",
        "labels = data['approved'].values\n",
        "\n",
        "# See the distribution of approved / denied classes (0: denied, 1: approved)\n",
        "print(data['approved'].value_counts())"
      ],
      "execution_count": 0,
      "outputs": []
    },
    {
      "cell_type": "code",
      "metadata": {
        "colab_type": "code",
        "id": "bER0GA7wgSHE",
        "colab": {}
      },
      "source": [
        "data = data.drop(columns=['approved'])"
      ],
      "execution_count": 0,
      "outputs": []
    },
    {
      "cell_type": "code",
      "metadata": {
        "colab_type": "code",
        "id": "dkR8t9I2_fSm",
        "colab": {}
      },
      "source": [
        "# Convert categorical columns to dummy columns\n",
        "dummy_columns = list(data.dtypes[data.dtypes == 'category'].index)\n",
        "data = pd.get_dummies(data, columns=dummy_columns)"
      ],
      "execution_count": 0,
      "outputs": []
    },
    {
      "cell_type": "code",
      "metadata": {
        "colab_type": "code",
        "id": "eQNpBaaiZU5r",
        "colab": {}
      },
      "source": [
        "# Preview the data\n",
        "data.head()"
      ],
      "execution_count": 0,
      "outputs": []
    },
    {
      "cell_type": "markdown",
      "metadata": {
        "colab_type": "text",
        "id": "Mpr23PcBAnM3"
      },
      "source": [
        "## Train the XGBoost model"
      ]
    },
    {
      "cell_type": "code",
      "metadata": {
        "colab_type": "code",
        "id": "qdA3eC9v0tbN",
        "colab": {}
      },
      "source": [
        "# Split the data into train / test sets\n",
        "x,y = data,labels\n",
        "x_train,x_test,y_train,y_test = train_test_split(x,y)"
      ],
      "execution_count": 0,
      "outputs": []
    },
    {
      "cell_type": "code",
      "metadata": {
        "colab_type": "code",
        "id": "GOveA7JAAmr4",
        "colab": {}
      },
      "source": [
        "# Train the model, this will take a few minutes to run\n",
        "bst = xgb.XGBClassifier(\n",
        "    objective='reg:logistic'\n",
        ")\n",
        "\n",
        "bst.fit(x_train, y_train)"
      ],
      "execution_count": 0,
      "outputs": []
    },
    {
      "cell_type": "code",
      "metadata": {
        "colab_type": "code",
        "id": "0YNhqfWpBGLK",
        "colab": {}
      },
      "source": [
        "# Get predictions on the test set and print the accuracy score\n",
        "y_pred = bst.predict(x_test)\n",
        "acc = accuracy_score(y_test, y_pred.round())\n",
        "print(acc, '\\n')"
      ],
      "execution_count": 0,
      "outputs": []
    },
    {
      "cell_type": "code",
      "metadata": {
        "colab_type": "code",
        "id": "_UfHZJfFhcRO",
        "colab": {}
      },
      "source": [
        "# Print a confusion matrix\n",
        "print('Confusion matrix:')\n",
        "cm = confusion_matrix(y_test, y_pred.round())\n",
        "cm = cm / cm.astype(np.float).sum(axis=1)\n",
        "print(cm)"
      ],
      "execution_count": 0,
      "outputs": []
    },
    {
      "cell_type": "code",
      "metadata": {
        "colab_type": "code",
        "id": "VFAZoUs2vvxf",
        "colab": {}
      },
      "source": [
        "# Save the model so we can deploy it\n",
        "bst.save_model('model.bst')"
      ],
      "execution_count": 0,
      "outputs": []
    },
    {
      "cell_type": "markdown",
      "metadata": {
        "colab_type": "text",
        "id": "Lop--kefvU5a"
      },
      "source": [
        "## Deploy model to AI Platform\n",
        "\n",
        "Copy your saved model file to Cloud Storage and deploy the model to AI Platform. In order for this to work, you'll need the Cloud AI Platform Models API enabled. Update the values in the next cell with the info for your GCP project."
      ]
    },
    {
      "cell_type": "code",
      "metadata": {
        "colab_type": "code",
        "id": "m454ISwGiP7Q",
        "colab": {}
      },
      "source": [
        "# Define some globals - update these to your own project + model names\n",
        "GCP_PROJECT = 'YOUR_GCP_PROJECT'\n",
        "MODEL_BUCKET = 'gs://your_storage_bucket'\n",
        "MODEL_NAME = 'your_model_name' # You'll create this model below\n",
        "VERSION_NAME = 'v1'"
      ],
      "execution_count": 0,
      "outputs": []
    },
    {
      "cell_type": "code",
      "metadata": {
        "colab_type": "code",
        "id": "f9VlzVTEvtiq",
        "colab": {}
      },
      "source": [
        "# Copy your model file to Cloud Storage\n",
        "!gsutil cp ./model.bst $MODEL_BUCKET"
      ],
      "execution_count": 0,
      "outputs": []
    },
    {
      "cell_type": "code",
      "metadata": {
        "id": "pL3AhFELOSXi",
        "colab_type": "code",
        "colab": {}
      },
      "source": [
        "# Configure gcloud to use your project\n",
        "!gcloud config set project $GCP_PROJECT"
      ],
      "execution_count": 0,
      "outputs": []
    },
    {
      "cell_type": "code",
      "metadata": {
        "colab_type": "code",
        "id": "ew-GyuFHine9",
        "colab": {}
      },
      "source": [
        "# Create a model\n",
        "!gcloud ai-platform models create $MODEL_NAME"
      ],
      "execution_count": 0,
      "outputs": []
    },
    {
      "cell_type": "code",
      "metadata": {
        "colab_type": "code",
        "id": "h14oBXAtvUYE",
        "colab": {}
      },
      "source": [
        "# Create a version, this will take ~2 minutes to deploy\n",
        "!gcloud ai-platform versions create $VERSION_NAME \\\n",
        "--model=$MODEL_NAME \\\n",
        "--framework='XGBOOST' \\\n",
        "--runtime-version=1.14 \\\n",
        "--origin=$MODEL_BUCKET \\\n",
        "--python-version=3.5 \\\n",
        "--project=$GCP_PROJECT"
      ],
      "execution_count": 0,
      "outputs": []
    },
    {
      "cell_type": "markdown",
      "metadata": {
        "colab_type": "text",
        "id": "-8xNn8EhgUi7"
      },
      "source": [
        "## Using the What-if Tool to interpret your model\n",
        "Once your model has deployed, you're ready to connect it to the What-if Tool using the `WitWidget`."
      ]
    },
    {
      "cell_type": "code",
      "metadata": {
        "colab_type": "code",
        "id": "QzDqyqgzvV0E",
        "colab": {}
      },
      "source": [
        "# Format a subset of the test data to send to the What-if Tool for visualization\n",
        "# Append ground truth label value to training data\n",
        "\n",
        "# This is the number of examples you want to display in the What-if Tool\n",
        "num_wit_examples = 500\n",
        "test_examples = np.hstack((x_test[:num_wit_examples].values,y_test[:num_wit_examples].reshape(-1,1)))"
      ],
      "execution_count": 0,
      "outputs": []
    },
    {
      "cell_type": "code",
      "metadata": {
        "colab_type": "code",
        "id": "dqAbAmxkgW4p",
        "colab": {}
      },
      "source": [
        "# Create a What-if Tool visualization, it may take a minute to load\n",
        "# See the cell below this for exploration ideas\n",
        "\n",
        "# This prediction adjustment function is needed as this xgboost model's\n",
        "# prediction returns just a score for the positive class of the binary\n",
        "# classification, whereas the What-If Tool expects a list of scores for each\n",
        "# class (in this case, both the negative class and the positive class).\n",
        "def adjust_prediction(pred):\n",
        "  return [1 - pred, pred]\n",
        "\n",
        "config_builder = (WitConfigBuilder(test_examples.tolist(), data.columns.tolist() + ['mortgage_status'])\n",
        "  .set_ai_platform_model(GCP_PROJECT, MODEL_NAME, VERSION_NAME, adjust_prediction=adjust_prediction)\n",
        "  .set_target_feature('mortgage_status')\n",
        "  .set_label_vocab(['denied', 'approved']))\n",
        "WitWidget(config_builder, height=800)"
      ],
      "execution_count": 0,
      "outputs": []
    },
    {
      "cell_type": "markdown",
      "metadata": {
        "colab_type": "text",
        "id": "_B2BskDk55rk"
      },
      "source": [
        "## What-if Tool exploration ideas\n",
        "\n",
        "* **Individual data points**: the default graph shows all data points from the test set, colored by their ground truth label (approved or denied)\n",
        "  * Try selecting data points close to the middle and tweaking some of their feature values. Then run inference again to see if the model prediction changes\n",
        "  * Select a data point and then select the \"Show nearest counterfactual datapoint\" radio button. This will highlight a data point with feature values closest to your original one, but with the opposite prediction\n",
        "  \n",
        "* **Binning data**: create separate graphs for individual features\n",
        "  * From the \"Binning - X axis\" dropdown, try selecting one of the agency codes, for example \"Department of Housing and Urban Development (HUD)\". This will create 2 separate graphs, one for loan applications from the HUD (graph labeled 1), and one for all other agencies (graph labeled 0). This shows us that loans from this agency are more likely to be denied\n",
        "  \n",
        "* **Exploring overall performance**: Click on the \"Performance & Fairness\" tab to view overall performance statistics on the model's results on the provided dataset, including confusion matrices, PR curves, and ROC curves.\n",
        "   * Experiment with the threshold slider, raising and lowering the positive classification score the model needs to return before it decides to predict \"approved\" for the loan, and see how it changes accuracy, false positives, and false negatives.\n",
        "   * On the left side \"Slice by\" menu, select \"loan_purpose_Home purchase\". You'll now see performance on the two subsets of your data: the \"0\" slice shows when the loan is not for a home purchase, and the \"1\" slice is for when the loan is for a home purchase. Check out the accuracy, false postive, and false negative rate between the two slices to look for differences in performance. If you expand the rows to look at the confusion matrices, you can see that the model predicts \"approved\" more often for home purchase loans.\n",
        "   * You can use the optimization buttons on the left side to have the tool auto-select different positive classification thresholds for each slice in order to achieve different goals. If you select the \"Demographic parity\" button, then the two thresholds will be adjusted so that the model predicts \"approved\" for a similar percentage of applicants in both slices. What does this do to the accuracy, false positives and false negatives for each slice?\n"
      ]
    }
  ]
}